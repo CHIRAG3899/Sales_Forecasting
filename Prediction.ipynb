{
 "cells": [
  {
   "cell_type": "code",
   "execution_count": 1,
   "id": "9fd86166",
   "metadata": {},
   "outputs": [],
   "source": [
    "import pandas as pd\n",
    "import datetime                                        # To handle dates\n",
    "import calendar                                        # To get month\n",
    "import statsmodels.formula.api as sm\n",
    "import matplotlib.pylab as plt\n",
    "import numpy as np\n",
    "import seaborn as sns\n",
    "import sklearn.metrics as metrics                      # To get regression metrics\n",
    "import scipy as sp\n",
    "import time                                            # To do time complexity analysis\n",
    "import random\n",
    "import copy\n",
    "import profile\n",
    "import cProfile\n",
    "from sklearn.cluster import KMeans                     # perform clustering operation\n",
    "%matplotlib inline"
   ]
  },
  {
   "cell_type": "code",
   "execution_count": 2,
   "id": "b7c872b4",
   "metadata": {},
   "outputs": [],
   "source": [
    "#loading in raw data\n",
    "features_df = pd.read_csv(\"features.csv\")\n",
    "stores_df = pd.read_csv(\"stores.csv\")\n",
    "train_df = pd.read_csv(\"train.csv\")"
   ]
  },
  {
   "cell_type": "code",
   "execution_count": 3,
   "id": "5681bc1d",
   "metadata": {},
   "outputs": [
    {
     "data": {
      "text/html": [
       "<div>\n",
       "<style scoped>\n",
       "    .dataframe tbody tr th:only-of-type {\n",
       "        vertical-align: middle;\n",
       "    }\n",
       "\n",
       "    .dataframe tbody tr th {\n",
       "        vertical-align: top;\n",
       "    }\n",
       "\n",
       "    .dataframe thead th {\n",
       "        text-align: right;\n",
       "    }\n",
       "</style>\n",
       "<table border=\"1\" class=\"dataframe\">\n",
       "  <thead>\n",
       "    <tr style=\"text-align: right;\">\n",
       "      <th></th>\n",
       "      <th>Store</th>\n",
       "      <th>Date</th>\n",
       "      <th>Temperature</th>\n",
       "      <th>Fuel_Price</th>\n",
       "      <th>MarkDown1</th>\n",
       "      <th>MarkDown2</th>\n",
       "      <th>MarkDown3</th>\n",
       "      <th>MarkDown4</th>\n",
       "      <th>MarkDown5</th>\n",
       "      <th>CPI</th>\n",
       "      <th>Unemployment</th>\n",
       "      <th>IsHoliday</th>\n",
       "    </tr>\n",
       "  </thead>\n",
       "  <tbody>\n",
       "    <tr>\n",
       "      <th>0</th>\n",
       "      <td>1</td>\n",
       "      <td>2010-02-05</td>\n",
       "      <td>42.31</td>\n",
       "      <td>2.572</td>\n",
       "      <td>NaN</td>\n",
       "      <td>NaN</td>\n",
       "      <td>NaN</td>\n",
       "      <td>NaN</td>\n",
       "      <td>NaN</td>\n",
       "      <td>211.096358</td>\n",
       "      <td>8.106</td>\n",
       "      <td>False</td>\n",
       "    </tr>\n",
       "    <tr>\n",
       "      <th>1</th>\n",
       "      <td>1</td>\n",
       "      <td>2010-02-12</td>\n",
       "      <td>38.51</td>\n",
       "      <td>2.548</td>\n",
       "      <td>NaN</td>\n",
       "      <td>NaN</td>\n",
       "      <td>NaN</td>\n",
       "      <td>NaN</td>\n",
       "      <td>NaN</td>\n",
       "      <td>211.242170</td>\n",
       "      <td>8.106</td>\n",
       "      <td>True</td>\n",
       "    </tr>\n",
       "    <tr>\n",
       "      <th>2</th>\n",
       "      <td>1</td>\n",
       "      <td>2010-02-19</td>\n",
       "      <td>39.93</td>\n",
       "      <td>2.514</td>\n",
       "      <td>NaN</td>\n",
       "      <td>NaN</td>\n",
       "      <td>NaN</td>\n",
       "      <td>NaN</td>\n",
       "      <td>NaN</td>\n",
       "      <td>211.289143</td>\n",
       "      <td>8.106</td>\n",
       "      <td>False</td>\n",
       "    </tr>\n",
       "    <tr>\n",
       "      <th>3</th>\n",
       "      <td>1</td>\n",
       "      <td>2010-02-26</td>\n",
       "      <td>46.63</td>\n",
       "      <td>2.561</td>\n",
       "      <td>NaN</td>\n",
       "      <td>NaN</td>\n",
       "      <td>NaN</td>\n",
       "      <td>NaN</td>\n",
       "      <td>NaN</td>\n",
       "      <td>211.319643</td>\n",
       "      <td>8.106</td>\n",
       "      <td>False</td>\n",
       "    </tr>\n",
       "    <tr>\n",
       "      <th>4</th>\n",
       "      <td>1</td>\n",
       "      <td>2010-03-05</td>\n",
       "      <td>46.50</td>\n",
       "      <td>2.625</td>\n",
       "      <td>NaN</td>\n",
       "      <td>NaN</td>\n",
       "      <td>NaN</td>\n",
       "      <td>NaN</td>\n",
       "      <td>NaN</td>\n",
       "      <td>211.350143</td>\n",
       "      <td>8.106</td>\n",
       "      <td>False</td>\n",
       "    </tr>\n",
       "  </tbody>\n",
       "</table>\n",
       "</div>"
      ],
      "text/plain": [
       "   Store        Date  Temperature  Fuel_Price  MarkDown1  MarkDown2  \\\n",
       "0      1  2010-02-05        42.31       2.572        NaN        NaN   \n",
       "1      1  2010-02-12        38.51       2.548        NaN        NaN   \n",
       "2      1  2010-02-19        39.93       2.514        NaN        NaN   \n",
       "3      1  2010-02-26        46.63       2.561        NaN        NaN   \n",
       "4      1  2010-03-05        46.50       2.625        NaN        NaN   \n",
       "\n",
       "   MarkDown3  MarkDown4  MarkDown5         CPI  Unemployment  IsHoliday  \n",
       "0        NaN        NaN        NaN  211.096358         8.106      False  \n",
       "1        NaN        NaN        NaN  211.242170         8.106       True  \n",
       "2        NaN        NaN        NaN  211.289143         8.106      False  \n",
       "3        NaN        NaN        NaN  211.319643         8.106      False  \n",
       "4        NaN        NaN        NaN  211.350143         8.106      False  "
      ]
     },
     "execution_count": 3,
     "metadata": {},
     "output_type": "execute_result"
    }
   ],
   "source": [
    "features_df.head()"
   ]
  },
  {
   "cell_type": "code",
   "execution_count": 4,
   "id": "5abc7795",
   "metadata": {},
   "outputs": [
    {
     "data": {
      "text/html": [
       "<div>\n",
       "<style scoped>\n",
       "    .dataframe tbody tr th:only-of-type {\n",
       "        vertical-align: middle;\n",
       "    }\n",
       "\n",
       "    .dataframe tbody tr th {\n",
       "        vertical-align: top;\n",
       "    }\n",
       "\n",
       "    .dataframe thead th {\n",
       "        text-align: right;\n",
       "    }\n",
       "</style>\n",
       "<table border=\"1\" class=\"dataframe\">\n",
       "  <thead>\n",
       "    <tr style=\"text-align: right;\">\n",
       "      <th></th>\n",
       "      <th>Store</th>\n",
       "      <th>Temperature</th>\n",
       "      <th>Fuel_Price</th>\n",
       "      <th>MarkDown1</th>\n",
       "      <th>MarkDown2</th>\n",
       "      <th>MarkDown3</th>\n",
       "      <th>MarkDown4</th>\n",
       "      <th>MarkDown5</th>\n",
       "      <th>CPI</th>\n",
       "      <th>Unemployment</th>\n",
       "    </tr>\n",
       "  </thead>\n",
       "  <tbody>\n",
       "    <tr>\n",
       "      <th>count</th>\n",
       "      <td>8190.000000</td>\n",
       "      <td>8190.000000</td>\n",
       "      <td>8190.000000</td>\n",
       "      <td>4032.000000</td>\n",
       "      <td>2921.000000</td>\n",
       "      <td>3613.000000</td>\n",
       "      <td>3464.000000</td>\n",
       "      <td>4050.000000</td>\n",
       "      <td>7605.000000</td>\n",
       "      <td>7605.000000</td>\n",
       "    </tr>\n",
       "    <tr>\n",
       "      <th>mean</th>\n",
       "      <td>23.000000</td>\n",
       "      <td>59.356198</td>\n",
       "      <td>3.405992</td>\n",
       "      <td>7032.371786</td>\n",
       "      <td>3384.176594</td>\n",
       "      <td>1760.100180</td>\n",
       "      <td>3292.935886</td>\n",
       "      <td>4132.216422</td>\n",
       "      <td>172.460809</td>\n",
       "      <td>7.826821</td>\n",
       "    </tr>\n",
       "    <tr>\n",
       "      <th>std</th>\n",
       "      <td>12.987966</td>\n",
       "      <td>18.678607</td>\n",
       "      <td>0.431337</td>\n",
       "      <td>9262.747448</td>\n",
       "      <td>8793.583016</td>\n",
       "      <td>11276.462208</td>\n",
       "      <td>6792.329861</td>\n",
       "      <td>13086.690278</td>\n",
       "      <td>39.738346</td>\n",
       "      <td>1.877259</td>\n",
       "    </tr>\n",
       "    <tr>\n",
       "      <th>min</th>\n",
       "      <td>1.000000</td>\n",
       "      <td>-7.290000</td>\n",
       "      <td>2.472000</td>\n",
       "      <td>-2781.450000</td>\n",
       "      <td>-265.760000</td>\n",
       "      <td>-179.260000</td>\n",
       "      <td>0.220000</td>\n",
       "      <td>-185.170000</td>\n",
       "      <td>126.064000</td>\n",
       "      <td>3.684000</td>\n",
       "    </tr>\n",
       "    <tr>\n",
       "      <th>25%</th>\n",
       "      <td>12.000000</td>\n",
       "      <td>45.902500</td>\n",
       "      <td>3.041000</td>\n",
       "      <td>1577.532500</td>\n",
       "      <td>68.880000</td>\n",
       "      <td>6.600000</td>\n",
       "      <td>304.687500</td>\n",
       "      <td>1440.827500</td>\n",
       "      <td>132.364839</td>\n",
       "      <td>6.634000</td>\n",
       "    </tr>\n",
       "    <tr>\n",
       "      <th>50%</th>\n",
       "      <td>23.000000</td>\n",
       "      <td>60.710000</td>\n",
       "      <td>3.513000</td>\n",
       "      <td>4743.580000</td>\n",
       "      <td>364.570000</td>\n",
       "      <td>36.260000</td>\n",
       "      <td>1176.425000</td>\n",
       "      <td>2727.135000</td>\n",
       "      <td>182.764003</td>\n",
       "      <td>7.806000</td>\n",
       "    </tr>\n",
       "    <tr>\n",
       "      <th>75%</th>\n",
       "      <td>34.000000</td>\n",
       "      <td>73.880000</td>\n",
       "      <td>3.743000</td>\n",
       "      <td>8923.310000</td>\n",
       "      <td>2153.350000</td>\n",
       "      <td>163.150000</td>\n",
       "      <td>3310.007500</td>\n",
       "      <td>4832.555000</td>\n",
       "      <td>213.932412</td>\n",
       "      <td>8.567000</td>\n",
       "    </tr>\n",
       "    <tr>\n",
       "      <th>max</th>\n",
       "      <td>45.000000</td>\n",
       "      <td>101.950000</td>\n",
       "      <td>4.468000</td>\n",
       "      <td>103184.980000</td>\n",
       "      <td>104519.540000</td>\n",
       "      <td>149483.310000</td>\n",
       "      <td>67474.850000</td>\n",
       "      <td>771448.100000</td>\n",
       "      <td>228.976456</td>\n",
       "      <td>14.313000</td>\n",
       "    </tr>\n",
       "  </tbody>\n",
       "</table>\n",
       "</div>"
      ],
      "text/plain": [
       "             Store  Temperature   Fuel_Price      MarkDown1      MarkDown2  \\\n",
       "count  8190.000000  8190.000000  8190.000000    4032.000000    2921.000000   \n",
       "mean     23.000000    59.356198     3.405992    7032.371786    3384.176594   \n",
       "std      12.987966    18.678607     0.431337    9262.747448    8793.583016   \n",
       "min       1.000000    -7.290000     2.472000   -2781.450000    -265.760000   \n",
       "25%      12.000000    45.902500     3.041000    1577.532500      68.880000   \n",
       "50%      23.000000    60.710000     3.513000    4743.580000     364.570000   \n",
       "75%      34.000000    73.880000     3.743000    8923.310000    2153.350000   \n",
       "max      45.000000   101.950000     4.468000  103184.980000  104519.540000   \n",
       "\n",
       "           MarkDown3     MarkDown4      MarkDown5          CPI  Unemployment  \n",
       "count    3613.000000   3464.000000    4050.000000  7605.000000   7605.000000  \n",
       "mean     1760.100180   3292.935886    4132.216422   172.460809      7.826821  \n",
       "std     11276.462208   6792.329861   13086.690278    39.738346      1.877259  \n",
       "min      -179.260000      0.220000    -185.170000   126.064000      3.684000  \n",
       "25%         6.600000    304.687500    1440.827500   132.364839      6.634000  \n",
       "50%        36.260000   1176.425000    2727.135000   182.764003      7.806000  \n",
       "75%       163.150000   3310.007500    4832.555000   213.932412      8.567000  \n",
       "max    149483.310000  67474.850000  771448.100000   228.976456     14.313000  "
      ]
     },
     "execution_count": 4,
     "metadata": {},
     "output_type": "execute_result"
    }
   ],
   "source": [
    "features_df.describe()"
   ]
  },
  {
   "cell_type": "code",
   "execution_count": 5,
   "id": "9f6fb02d",
   "metadata": {},
   "outputs": [
    {
     "data": {
      "text/html": [
       "<div>\n",
       "<style scoped>\n",
       "    .dataframe tbody tr th:only-of-type {\n",
       "        vertical-align: middle;\n",
       "    }\n",
       "\n",
       "    .dataframe tbody tr th {\n",
       "        vertical-align: top;\n",
       "    }\n",
       "\n",
       "    .dataframe thead th {\n",
       "        text-align: right;\n",
       "    }\n",
       "</style>\n",
       "<table border=\"1\" class=\"dataframe\">\n",
       "  <thead>\n",
       "    <tr style=\"text-align: right;\">\n",
       "      <th></th>\n",
       "      <th>Store</th>\n",
       "      <th>Type</th>\n",
       "      <th>Size</th>\n",
       "    </tr>\n",
       "  </thead>\n",
       "  <tbody>\n",
       "    <tr>\n",
       "      <th>0</th>\n",
       "      <td>1</td>\n",
       "      <td>A</td>\n",
       "      <td>151315</td>\n",
       "    </tr>\n",
       "    <tr>\n",
       "      <th>1</th>\n",
       "      <td>2</td>\n",
       "      <td>A</td>\n",
       "      <td>202307</td>\n",
       "    </tr>\n",
       "    <tr>\n",
       "      <th>2</th>\n",
       "      <td>3</td>\n",
       "      <td>B</td>\n",
       "      <td>37392</td>\n",
       "    </tr>\n",
       "    <tr>\n",
       "      <th>3</th>\n",
       "      <td>4</td>\n",
       "      <td>A</td>\n",
       "      <td>205863</td>\n",
       "    </tr>\n",
       "    <tr>\n",
       "      <th>4</th>\n",
       "      <td>5</td>\n",
       "      <td>B</td>\n",
       "      <td>34875</td>\n",
       "    </tr>\n",
       "  </tbody>\n",
       "</table>\n",
       "</div>"
      ],
      "text/plain": [
       "   Store Type    Size\n",
       "0      1    A  151315\n",
       "1      2    A  202307\n",
       "2      3    B   37392\n",
       "3      4    A  205863\n",
       "4      5    B   34875"
      ]
     },
     "execution_count": 5,
     "metadata": {},
     "output_type": "execute_result"
    }
   ],
   "source": [
    "stores_df.head()"
   ]
  },
  {
   "cell_type": "code",
   "execution_count": 6,
   "id": "c0b9b14e",
   "metadata": {},
   "outputs": [
    {
     "data": {
      "text/html": [
       "<div>\n",
       "<style scoped>\n",
       "    .dataframe tbody tr th:only-of-type {\n",
       "        vertical-align: middle;\n",
       "    }\n",
       "\n",
       "    .dataframe tbody tr th {\n",
       "        vertical-align: top;\n",
       "    }\n",
       "\n",
       "    .dataframe thead th {\n",
       "        text-align: right;\n",
       "    }\n",
       "</style>\n",
       "<table border=\"1\" class=\"dataframe\">\n",
       "  <thead>\n",
       "    <tr style=\"text-align: right;\">\n",
       "      <th></th>\n",
       "      <th>Store</th>\n",
       "      <th>Size</th>\n",
       "    </tr>\n",
       "  </thead>\n",
       "  <tbody>\n",
       "    <tr>\n",
       "      <th>count</th>\n",
       "      <td>45.000000</td>\n",
       "      <td>45.000000</td>\n",
       "    </tr>\n",
       "    <tr>\n",
       "      <th>mean</th>\n",
       "      <td>23.000000</td>\n",
       "      <td>130287.600000</td>\n",
       "    </tr>\n",
       "    <tr>\n",
       "      <th>std</th>\n",
       "      <td>13.133926</td>\n",
       "      <td>63825.271991</td>\n",
       "    </tr>\n",
       "    <tr>\n",
       "      <th>min</th>\n",
       "      <td>1.000000</td>\n",
       "      <td>34875.000000</td>\n",
       "    </tr>\n",
       "    <tr>\n",
       "      <th>25%</th>\n",
       "      <td>12.000000</td>\n",
       "      <td>70713.000000</td>\n",
       "    </tr>\n",
       "    <tr>\n",
       "      <th>50%</th>\n",
       "      <td>23.000000</td>\n",
       "      <td>126512.000000</td>\n",
       "    </tr>\n",
       "    <tr>\n",
       "      <th>75%</th>\n",
       "      <td>34.000000</td>\n",
       "      <td>202307.000000</td>\n",
       "    </tr>\n",
       "    <tr>\n",
       "      <th>max</th>\n",
       "      <td>45.000000</td>\n",
       "      <td>219622.000000</td>\n",
       "    </tr>\n",
       "  </tbody>\n",
       "</table>\n",
       "</div>"
      ],
      "text/plain": [
       "           Store           Size\n",
       "count  45.000000      45.000000\n",
       "mean   23.000000  130287.600000\n",
       "std    13.133926   63825.271991\n",
       "min     1.000000   34875.000000\n",
       "25%    12.000000   70713.000000\n",
       "50%    23.000000  126512.000000\n",
       "75%    34.000000  202307.000000\n",
       "max    45.000000  219622.000000"
      ]
     },
     "execution_count": 6,
     "metadata": {},
     "output_type": "execute_result"
    }
   ],
   "source": [
    "stores_df.describe()"
   ]
  },
  {
   "cell_type": "code",
   "execution_count": 7,
   "id": "ad91ca96",
   "metadata": {},
   "outputs": [
    {
     "data": {
      "text/html": [
       "<div>\n",
       "<style scoped>\n",
       "    .dataframe tbody tr th:only-of-type {\n",
       "        vertical-align: middle;\n",
       "    }\n",
       "\n",
       "    .dataframe tbody tr th {\n",
       "        vertical-align: top;\n",
       "    }\n",
       "\n",
       "    .dataframe thead th {\n",
       "        text-align: right;\n",
       "    }\n",
       "</style>\n",
       "<table border=\"1\" class=\"dataframe\">\n",
       "  <thead>\n",
       "    <tr style=\"text-align: right;\">\n",
       "      <th></th>\n",
       "      <th>Store</th>\n",
       "      <th>Dept</th>\n",
       "      <th>Date</th>\n",
       "      <th>Weekly_Sales</th>\n",
       "      <th>IsHoliday</th>\n",
       "    </tr>\n",
       "  </thead>\n",
       "  <tbody>\n",
       "    <tr>\n",
       "      <th>0</th>\n",
       "      <td>1</td>\n",
       "      <td>1</td>\n",
       "      <td>2010-02-05</td>\n",
       "      <td>24924.50</td>\n",
       "      <td>False</td>\n",
       "    </tr>\n",
       "    <tr>\n",
       "      <th>1</th>\n",
       "      <td>1</td>\n",
       "      <td>1</td>\n",
       "      <td>2010-02-12</td>\n",
       "      <td>46039.49</td>\n",
       "      <td>True</td>\n",
       "    </tr>\n",
       "    <tr>\n",
       "      <th>2</th>\n",
       "      <td>1</td>\n",
       "      <td>1</td>\n",
       "      <td>2010-02-19</td>\n",
       "      <td>41595.55</td>\n",
       "      <td>False</td>\n",
       "    </tr>\n",
       "    <tr>\n",
       "      <th>3</th>\n",
       "      <td>1</td>\n",
       "      <td>1</td>\n",
       "      <td>2010-02-26</td>\n",
       "      <td>19403.54</td>\n",
       "      <td>False</td>\n",
       "    </tr>\n",
       "    <tr>\n",
       "      <th>4</th>\n",
       "      <td>1</td>\n",
       "      <td>1</td>\n",
       "      <td>2010-03-05</td>\n",
       "      <td>21827.90</td>\n",
       "      <td>False</td>\n",
       "    </tr>\n",
       "  </tbody>\n",
       "</table>\n",
       "</div>"
      ],
      "text/plain": [
       "   Store  Dept        Date  Weekly_Sales  IsHoliday\n",
       "0      1     1  2010-02-05      24924.50      False\n",
       "1      1     1  2010-02-12      46039.49       True\n",
       "2      1     1  2010-02-19      41595.55      False\n",
       "3      1     1  2010-02-26      19403.54      False\n",
       "4      1     1  2010-03-05      21827.90      False"
      ]
     },
     "execution_count": 7,
     "metadata": {},
     "output_type": "execute_result"
    }
   ],
   "source": [
    "train_df.head()"
   ]
  },
  {
   "cell_type": "code",
   "execution_count": 8,
   "id": "157b86a9",
   "metadata": {},
   "outputs": [
    {
     "data": {
      "text/html": [
       "<div>\n",
       "<style scoped>\n",
       "    .dataframe tbody tr th:only-of-type {\n",
       "        vertical-align: middle;\n",
       "    }\n",
       "\n",
       "    .dataframe tbody tr th {\n",
       "        vertical-align: top;\n",
       "    }\n",
       "\n",
       "    .dataframe thead th {\n",
       "        text-align: right;\n",
       "    }\n",
       "</style>\n",
       "<table border=\"1\" class=\"dataframe\">\n",
       "  <thead>\n",
       "    <tr style=\"text-align: right;\">\n",
       "      <th></th>\n",
       "      <th>Store</th>\n",
       "      <th>Dept</th>\n",
       "      <th>Weekly_Sales</th>\n",
       "    </tr>\n",
       "  </thead>\n",
       "  <tbody>\n",
       "    <tr>\n",
       "      <th>count</th>\n",
       "      <td>421570.000000</td>\n",
       "      <td>421570.000000</td>\n",
       "      <td>421570.000000</td>\n",
       "    </tr>\n",
       "    <tr>\n",
       "      <th>mean</th>\n",
       "      <td>22.200546</td>\n",
       "      <td>44.260317</td>\n",
       "      <td>15981.258123</td>\n",
       "    </tr>\n",
       "    <tr>\n",
       "      <th>std</th>\n",
       "      <td>12.785297</td>\n",
       "      <td>30.492054</td>\n",
       "      <td>22711.183519</td>\n",
       "    </tr>\n",
       "    <tr>\n",
       "      <th>min</th>\n",
       "      <td>1.000000</td>\n",
       "      <td>1.000000</td>\n",
       "      <td>-4988.940000</td>\n",
       "    </tr>\n",
       "    <tr>\n",
       "      <th>25%</th>\n",
       "      <td>11.000000</td>\n",
       "      <td>18.000000</td>\n",
       "      <td>2079.650000</td>\n",
       "    </tr>\n",
       "    <tr>\n",
       "      <th>50%</th>\n",
       "      <td>22.000000</td>\n",
       "      <td>37.000000</td>\n",
       "      <td>7612.030000</td>\n",
       "    </tr>\n",
       "    <tr>\n",
       "      <th>75%</th>\n",
       "      <td>33.000000</td>\n",
       "      <td>74.000000</td>\n",
       "      <td>20205.852500</td>\n",
       "    </tr>\n",
       "    <tr>\n",
       "      <th>max</th>\n",
       "      <td>45.000000</td>\n",
       "      <td>99.000000</td>\n",
       "      <td>693099.360000</td>\n",
       "    </tr>\n",
       "  </tbody>\n",
       "</table>\n",
       "</div>"
      ],
      "text/plain": [
       "               Store           Dept   Weekly_Sales\n",
       "count  421570.000000  421570.000000  421570.000000\n",
       "mean       22.200546      44.260317   15981.258123\n",
       "std        12.785297      30.492054   22711.183519\n",
       "min         1.000000       1.000000   -4988.940000\n",
       "25%        11.000000      18.000000    2079.650000\n",
       "50%        22.000000      37.000000    7612.030000\n",
       "75%        33.000000      74.000000   20205.852500\n",
       "max        45.000000      99.000000  693099.360000"
      ]
     },
     "execution_count": 8,
     "metadata": {},
     "output_type": "execute_result"
    }
   ],
   "source": [
    "train_df.describe()"
   ]
  },
  {
   "cell_type": "code",
   "execution_count": 11,
   "id": "2e432218",
   "metadata": {},
   "outputs": [],
   "source": [
    "# Creating a custom season dictionary to identify the season in each month\n",
    "seasons_dict = {\n",
    "    1:\"Winter\",\n",
    "    2:\"Winter\",\n",
    "    3:\"Spring\",\n",
    "    4:\"Spring\",\n",
    "    5:\"Spring\",\n",
    "    6:\"Summer\",\n",
    "    7:\"Summer\",\n",
    "    8:\"Summer\",\n",
    "    9:\"Fall\",\n",
    "    10:\"Fall\",\n",
    "    11:\"Fall\",\n",
    "    12:\"Winter\"\n",
    "}"
   ]
  },
  {
   "cell_type": "code",
   "execution_count": 12,
   "id": "80820de5",
   "metadata": {},
   "outputs": [],
   "source": [
    "# Creating the master dataset\n",
    "master_df = train_df.merge(stores_df, on='Store', how='left')\n",
    "master_df = master_df.merge(features_df, on=['Store', 'Date'], how='left')"
   ]
  },
  {
   "cell_type": "code",
   "execution_count": 13,
   "id": "085cdca0",
   "metadata": {},
   "outputs": [
    {
     "name": "stdout",
     "output_type": "stream",
     "text": [
      "count    421570.000000\n",
      "mean      15981.258123\n",
      "std       22711.183519\n",
      "min       -4988.940000\n",
      "25%        2079.650000\n",
      "50%        7612.030000\n",
      "75%       20205.852500\n",
      "max      693099.360000\n",
      "Name: Weekly_Sales, dtype: float64\n",
      "Percentile less than 3% provides only negative value :  -0.56\n"
     ]
    }
   ],
   "source": [
    "d = copy.deepcopy(master_df)\n",
    "\n",
    "d1 = d[\"Weekly_Sales\"]\n",
    "\n",
    "print(d[\"Weekly_Sales\"].describe())\n",
    "\n",
    "print(\"Percentile less than 3% provides only negative value : \",d[\"Weekly_Sales\"].quantile(0.003))"
   ]
  },
  {
   "cell_type": "code",
   "execution_count": 14,
   "id": "c77d9d4b",
   "metadata": {},
   "outputs": [
    {
     "data": {
      "image/png": "[encoded data removed]",
      "text/plain": [
       "<Figure size 432x288 with 1 Axes>"
      ]
     },
     "metadata": {
      "needs_background": "light"
     },
     "output_type": "display_data"
    }
   ],
   "source": [
    "x = np.concatenate((d1[d[\"Weekly_Sales\"] < 0], d1[d[\"Weekly_Sales\"] > 0]))\n",
    "\n",
    "plt.hist(x, density=True)\n",
    "\n",
    "plt.xlim([-70496, 200000])\n",
    "plt.xlabel('Weekly Sales Values')\n",
    "plt.ylabel('Normalized Sales Values')\n",
    "plt.title('Normalized distribution of sales values')\n",
    "plt.show()"
   ]
  },
  {
   "cell_type": "code",
   "execution_count": 15,
   "id": "e91cbf61",
   "metadata": {},
   "outputs": [],
   "source": [
    "# Filling empty markdown columns\n",
    "master_df['MarkDown1'] = master_df['MarkDown1'].fillna(0)\n",
    "master_df['MarkDown2'] = master_df['MarkDown2'].fillna(0)\n",
    "master_df['MarkDown3'] = master_df['MarkDown3'].fillna(0)\n",
    "master_df['MarkDown4'] = master_df['MarkDown4'].fillna(0)\n",
    "master_df['MarkDown5'] = master_df['MarkDown5'].fillna(0)\n",
    "\n",
    "# Cleaning holiday columns\n",
    "master_df['isHoliday'] = master_df['IsHoliday_x']\n",
    "master_df = master_df.drop(columns=['IsHoliday_x', 'IsHoliday_y'])"
   ]
  },
  {
   "cell_type": "code",
   "execution_count": 16,
   "id": "8f910a01",
   "metadata": {},
   "outputs": [
    {
     "name": "stderr",
     "output_type": "stream",
     "text": [
      "<ipython-input-16-6f652299db90>:3: FutureWarning: Series.dt.weekofyear and Series.dt.week have been deprecated.  Please use Series.dt.isocalendar().week instead.\n",
      "  master_df['Week_Number'] = master_df['Date'].dt.week\n"
     ]
    }
   ],
   "source": [
    "# Handling Date and time\n",
    "master_df['Date'] = pd.to_datetime(master_df['Date'], format='%Y-%m-%d')\n",
    "master_df['Week_Number'] = master_df['Date'].dt.week\n",
    "master_df['Quarter'] = master_df['Date'].dt.quarter\n",
    "master_df['Month'] = master_df['Date'].dt.month.apply(lambda x: calendar.month_abbr[x])\n",
    "master_df['Season'] = (master_df['Date'].apply(lambda dt: (dt.month%12 + 3)//3)).map(seasons_dict)\n",
    "master_df[\"Year\"] = master_df[\"Date\"].dt.year"
   ]
  },
  {
   "cell_type": "code",
   "execution_count": 17,
   "id": "c5df2011",
   "metadata": {},
   "outputs": [],
   "source": [
    "master_df=master_df.sort_values(by=['Store', 'Dept', 'Year', 'Week_Number'], ascending=True)    \n",
    "\n",
    "# Previous week sales\n",
    "shifted_sales = master_df.shift(1)\n",
    "master_df_new_var = master_df.join(shifted_sales[['Store', 'Dept', 'Week_Number', 'Weekly_Sales', 'Year']], rsuffix='_Lag')\n",
    "master_df_new_var.loc[(master_df_new_var.Dept != master_df_new_var.Dept_Lag) |  (master_df_new_var.Store != master_df_new_var.Store_Lag), 'Weekly_Sales_Lag'] = -2\n",
    "\n",
    "# Previous month sales\n",
    "#shifted_sales = master_df.shift(4)\n",
    "#master_df_new_var = master_df_new_var.join(shifted_sales[['Store', 'Dept', 'Week_Number', 'Weekly_Sales', 'Year']], rsuffix='_Lag2')\n",
    "#master_df_new_var['Monthly_Sales_Lag'] = master_df_new_var.Week_Number_Lag2\n",
    "#master_df_new_var.loc[((master_df_new_var.Week_Number - master_df_new_var.Week_Number_Lag2) != 4) , 'Monthly_Sales_Lag'] = 0\n",
    "#master_df_new_var[['Store', 'Dept', 'Week_Number', 'Weekly_Sales', 'Year', 'Weekly_Sales_Lag']]\n",
    "\n",
    "# Average yearly sales\n",
    "#my_df= master_df[['Store','Dept','Week_Number','Weekly_Sales']]\n",
    "#my_df2= my_df.groupby(['Store','Dept','Week_Number']).mean()\n",
    "#master_df.set_index(['Store','Dept','Week_Number'],inplace= True)\n",
    "#df=master_df.join(my_df2, rsuffix='_yearly').reset_index(inplace=True)\n",
    "#master_df_new_var['Yearly_Sales']=df['Weekly_Sales_yearly']"
   ]
  },
  {
   "cell_type": "code",
   "execution_count": 18,
   "id": "51e51c60",
   "metadata": {},
   "outputs": [],
   "source": [
    "#forming categorarical variables\n",
    "master_df_new_var = master_df_new_var.join(pd.get_dummies(master_df['Quarter'], prefix='Quarter'))\n",
    "master_df_new_var = master_df_new_var.join(pd.get_dummies(master_df['Season'], prefix='Season'))\n",
    "master_df_new_var = master_df_new_var.join(pd.get_dummies(master_df['Store'], prefix='Store'))\n",
    "master_df_new_var = master_df_new_var.join(pd.get_dummies(master_df['Dept'], prefix='Dept'))\n",
    "master_df_new_var = master_df_new_var.join(pd.get_dummies(master_df['Type'], prefix='Type'))\n",
    "master_df_new_var = master_df_new_var.join(pd.get_dummies(master_df['Week_Number'], prefix='Week_Number'))"
   ]
  },
  {
   "cell_type": "code",
   "execution_count": 19,
   "id": "f405ddf0",
   "metadata": {},
   "outputs": [],
   "source": [
    "# Removing wrongly recorded data points\n",
    "master_df_new_var = master_df_new_var.dropna()\n",
    "#master_df_new_var = master_df_new_var.loc[master_df_new_var['Week_Number'] > 4]\n",
    "#master_df_new_var = master_df_new_var.loc[master_df_new_var['Monthly_Sales_Lag'] > 0]\n",
    "master_df_new_var = master_df_new_var.loc[master_df_new_var['Weekly_Sales_Lag'] > 0]\n",
    "master_df_new_var = master_df_new_var.loc[master_df_new_var['Weekly_Sales'] > 0] #keeping points which are only positive in value for the sales"
   ]
  },
  {
   "cell_type": "code",
   "execution_count": 20,
   "id": "42daec6a",
   "metadata": {},
   "outputs": [],
   "source": [
    "master_df_new_var['MarkDown'] = master_df_new_var['MarkDown1'] + master_df_new_var['MarkDown2'] + master_df_new_var['MarkDown3'] + master_df_new_var['MarkDown4'] + master_df_new_var['MarkDown5']\n",
    "master_df_new_var['MarkDown*Weekly_Sales_Lag'] = master_df_new_var['MarkDown']*master_df_new_var['Weekly_Sales_Lag']"
   ]
  },
  {
   "cell_type": "markdown",
   "id": "33330617",
   "metadata": {},
   "source": [
    "Model Building\n"
   ]
  },
  {
   "cell_type": "markdown",
   "id": "235eb470",
   "metadata": {},
   "source": [
    "Dividing the dataset into test and train dataset"
   ]
  },
  {
   "cell_type": "code",
   "execution_count": 21,
   "id": "90d59ee0",
   "metadata": {},
   "outputs": [],
   "source": [
    "#segregating the data\n",
    "data_test = master_df_new_var[master_df_new_var.Year == 2012]\n",
    "data_train = master_df_new_var[master_df_new_var.Year != 2012]"
   ]
  },
  {
   "cell_type": "code",
   "execution_count": 22,
   "id": "0c90f4ee",
   "metadata": {},
   "outputs": [],
   "source": [
    "features = list(master_df_new_var)\n",
    "for x in ('Quarter',\n",
    " 'Month',\n",
    " 'Season',\n",
    " 'Year',\n",
    " 'Store',\n",
    " 'Dept',\n",
    " 'Date',\n",
    " 'Type',\n",
    " 'Weekly_Sales',\n",
    " 'Weekly_Sales_Lag'):\n",
    "    features.remove(x)\n",
    "#features"
   ]
  },
  {
   "cell_type": "code",
   "execution_count": 23,
   "id": "b4e9136b",
   "metadata": {},
   "outputs": [],
   "source": [
    "# Writing the formula\n",
    "equals_to_str = \"\"\n",
    "for i in features:\n",
    "    equals_to_str = equals_to_str + str(i) + \" + \"\n",
    "\n",
    "equals_to_str = str('Weekly_Sales ~ ') + equals_to_str\n",
    "equals_to_str = equals_to_str[:-3] \n",
    "equals_to_str_promotion = equals_to_str + \"Markdown1\""
   ]
  },
  {
   "cell_type": "code",
   "execution_count": 24,
   "id": "cbab1722",
   "metadata": {},
   "outputs": [
    {
     "name": "stdout",
     "output_type": "stream",
     "text": [
      "Model 1 without Promotion \n",
      "                             OLS Regression Results                            \n",
      "==============================================================================\n",
      "Dep. Variable:           Weekly_Sales   R-squared:                       0.895\n",
      "Model:                            OLS   Adj. R-squared:                  0.895\n",
      "Method:                 Least Squares   F-statistic:                 1.301e+04\n",
      "Date:                Mon, 28 Feb 2022   Prob (F-statistic):               0.00\n",
      "Time:                        21:55:09   Log-Likelihood:            -2.9899e+06\n",
      "No. Observations:              289299   AIC:                         5.980e+06\n",
      "Df Residuals:                  289109   BIC:                         5.982e+06\n",
      "Df Model:                         189                                         \n",
      "Covariance Type:            nonrobust                                         \n",
      "=============================================================================================\n",
      "                                coef    std err          t      P>|t|      [0.025      0.975]\n",
      "---------------------------------------------------------------------------------------------\n",
      "Intercept                 -1.854e+05   1.04e+05     -1.777      0.076    -3.9e+05    1.91e+04\n",
      "isHoliday[T.True]          3163.4663   2327.351      1.359      0.174   -1398.077    7725.010\n",
      "Size                         -0.2797      0.170     -1.647      0.100      -0.612       0.053\n",
      "Temperature                   3.5663      3.143      1.135      0.257      -2.594       9.727\n",
      "Fuel_Price                 -427.6637    126.457     -3.382      0.001    -675.517    -179.811\n",
      "MarkDown1                    -0.0400      0.051     -0.784      0.433      -0.140       0.060\n",
      "MarkDown2                    -0.0504      0.049     -1.035      0.300      -0.146       0.045\n",
      "MarkDown3                    -0.0347      0.048     -0.718      0.473      -0.129       0.060\n",
      "MarkDown4                    -0.1481      0.056     -2.623      0.009      -0.259      -0.037\n",
      "MarkDown5                    -0.1025      0.050     -2.047      0.041      -0.201      -0.004\n",
      "CPI                          10.3677     19.796      0.524      0.600     -28.432      49.167\n",
      "Unemployment               -221.7126     53.176     -4.169      0.000    -325.936    -117.489\n",
      "Week_Number               -1868.2897   1044.022     -1.790      0.074   -3914.543     177.964\n",
      "Store_Lag                  -970.5256    555.473     -1.747      0.081   -2059.238     118.186\n",
      "Dept_Lag                   -113.8400     69.555     -1.637      0.102    -250.167      22.487\n",
      "Week_Number_Lag              11.4689     13.855      0.828      0.408     -15.686      38.624\n",
      "Year_Lag                    253.2172    143.743      1.762      0.078     -28.515     534.950\n",
      "Quarter_1                  -8.11e+04   4.57e+04     -1.775      0.076   -1.71e+05    8428.069\n",
      "Quarter_2                 -5.855e+04    3.3e+04     -1.776      0.076   -1.23e+05    6082.985\n",
      "Quarter_3                  -2.31e+04   1.28e+04     -1.798      0.072   -4.83e+04    2073.872\n",
      "Quarter_4                 -2.264e+04   1.28e+04     -1.763      0.078   -4.78e+04    2536.255\n",
      "Season_Spring             -9.448e+04   5.33e+04     -1.773      0.076   -1.99e+05    9979.376\n",
      "Season_Winter             -9.092e+04   5.11e+04     -1.781      0.075   -1.91e+05    9140.725\n",
      "Store_1                   -3.026e+04   1.69e+04     -1.788      0.074   -6.34e+04    2907.442\n",
      "Store_2                   -1.412e+04   7725.087     -1.828      0.068   -2.93e+04    1017.433\n",
      "Store_3                   -3.877e+04   2.12e+04     -1.833      0.067   -8.02e+04    2689.002\n",
      "Store_4                   -1.025e+04   7093.896     -1.445      0.148   -2.42e+04    3652.326\n",
      "Store_5                   -3.788e+04   2.05e+04     -1.849      0.064    -7.8e+04    2269.993\n",
      "Store_6                   -1.122e+04   5437.916     -2.064      0.039   -2.19e+04    -562.976\n",
      "Store_7                   -2.446e+04   1.36e+04     -1.798      0.072   -5.11e+04    2207.804\n",
      "Store_8                   -2.411e+04   1.23e+04     -1.955      0.051   -4.83e+04      62.250\n",
      "Store_9                   -8100.9893   2861.651     -2.831      0.005   -1.37e+04   -2492.232\n",
      "Store_10                  -2335.4471   3302.228     -0.707      0.479   -8807.723    4136.829\n",
      "Store_11                  -5382.8232   1875.675     -2.870      0.004   -9059.093   -1706.553\n",
      "Store_12                  -5234.0441   4693.088     -1.115      0.265   -1.44e+04    3964.278\n",
      "Store_13                   2402.4223    800.405      3.002      0.003     833.651    3971.193\n",
      "Store_14                  -1917.6511   1650.353     -1.162      0.245   -5152.296    1316.994\n",
      "Store_15                  -1259.7348    988.238     -1.275      0.202   -3196.653     677.184\n",
      "Store_16                  -2.009e+04   1.09e+04     -1.850      0.064   -4.14e+04    1200.008\n",
      "Store_17                  -7608.6956   5027.976     -1.513      0.130   -1.75e+04    2245.998\n",
      "Store_18                   1979.2544    566.092      3.496      0.000     869.730    3088.779\n",
      "Store_19                   2799.9011   1198.911      2.335      0.020     450.069    5149.733\n",
      "Store_20                   4288.4350   2532.479      1.693      0.090    -675.153    9252.023\n",
      "Store_21                   8472.4818   6298.033      1.345      0.179   -3871.488    2.08e+04\n",
      "Store_22                   5214.9593   2407.880      2.166      0.030     495.581    9934.338\n",
      "Store_23                   4877.8206   2144.372      2.275      0.023     674.911    9080.730\n",
      "Store_24                   7500.0760   3840.082      1.953      0.051     -26.378     1.5e+04\n",
      "Store_25                   8922.0247   6408.933      1.392      0.164   -3639.306    2.15e+04\n",
      "Store_26                  -5775.2410   3856.886     -1.497      0.134   -1.33e+04    1784.148\n",
      "Store_27                   1.132e+04   5602.537      2.021      0.043     340.974    2.23e+04\n",
      "Store_28                   1.322e+04   6294.342      2.100      0.036     879.246    2.56e+04\n",
      "Store_29                   4126.6893   1822.386      2.264      0.024     554.863    7698.515\n",
      "Store_30                  -1.965e+04   1.01e+04     -1.950      0.051   -3.94e+04      96.531\n",
      "Store_31                   1.325e+04   8671.835      1.528      0.126   -3745.139    3.02e+04\n",
      "Store_32                     1.4e+04   8798.563      1.591      0.112   -3246.191    3.12e+04\n",
      "Store_33                  -3.235e+04   1.92e+04     -1.687      0.092   -6.99e+04    5243.704\n",
      "Store_34                   3807.5866   1550.647      2.455      0.014     768.362    6846.811\n",
      "Store_35                   1.327e+04   6891.774      1.925      0.054    -240.286    2.68e+04\n",
      "Store_36                   -3.01e+04   1.64e+04     -1.831      0.067   -6.23e+04    2120.862\n",
      "Store_37                  -1.342e+04   6743.193     -1.990      0.047   -2.66e+04    -203.788\n",
      "Store_38                  -1.067e+04   7347.499     -1.453      0.146   -2.51e+04    3726.311\n",
      "Store_39                   1.572e+04   9763.359      1.610      0.107   -3413.117    3.49e+04\n",
      "Store_40                   7794.8817   4480.079      1.740      0.082    -985.948    1.66e+04\n",
      "Store_41                   2.071e+04   1.27e+04      1.632      0.103   -4166.950    4.56e+04\n",
      "Store_42                  -7312.0216   5037.487     -1.452      0.147   -1.72e+04    2561.312\n",
      "Store_43                  -6406.5370   3366.623     -1.903      0.057    -1.3e+04     191.951\n",
      "Store_44                  -6567.7087   3891.343     -1.688      0.091   -1.42e+04    1059.216\n",
      "Store_45                   2.621e+04   1.55e+04      1.690      0.091   -4181.369    5.66e+04\n",
      "Dept_1                    -6302.9466   4426.574     -1.424      0.154    -1.5e+04    2373.015\n",
      "Dept_2                    -2623.6600   4357.459     -0.602      0.547   -1.12e+04    5916.838\n",
      "Dept_3                    -7401.9446   4287.412     -1.726      0.084   -1.58e+04    1001.263\n",
      "Dept_4                    -5090.7672   4218.101     -1.207      0.227   -1.34e+04    3176.594\n",
      "Dept_5                    -5197.2691   4148.588     -1.253      0.210   -1.33e+04    2933.849\n",
      "Dept_6                    -8062.7702   4078.825     -1.977      0.048   -1.61e+04     -68.387\n",
      "Dept_7                    -4212.8280   4009.643     -1.051      0.293   -1.21e+04    3645.961\n",
      "Dept_8                    -4017.3707   3940.125     -1.020      0.308   -1.17e+04    3705.165\n",
      "Dept_9                    -5372.3572   3870.467     -1.388      0.165    -1.3e+04    2213.650\n",
      "Dept_10                   -5538.6789   3800.922     -1.457      0.145    -1.3e+04    1911.023\n",
      "Dept_11                   -5981.3870   3731.374     -1.603      0.109   -1.33e+04    1332.003\n",
      "Dept_12                   -7508.0858   3661.786     -2.050      0.040   -1.47e+04    -331.088\n",
      "Dept_13                   -3409.3362   3592.601     -0.949      0.343   -1.05e+04    3632.062\n",
      "Dept_14                   -5413.9749   3522.889     -1.537      0.124   -1.23e+04    1490.789\n",
      "Dept_16                   -5631.4778   3383.831     -1.664      0.096   -1.23e+04    1000.737\n",
      "Dept_17                   -5931.0414   3314.323     -1.790      0.074   -1.24e+04     564.940\n",
      "Dept_18                   -5722.5766   3244.506     -1.764      0.078   -1.21e+04     636.565\n",
      "Dept_19                   -7503.9126   3176.024     -2.363      0.018   -1.37e+04   -1278.993\n",
      "Dept_20                   -6492.4662   3106.032     -2.090      0.037   -1.26e+04    -404.730\n",
      "Dept_21                   -6298.8864   3036.315     -2.075      0.038   -1.22e+04    -347.793\n",
      "Dept_22                   -5555.6746   2967.339     -1.872      0.061   -1.14e+04     260.227\n",
      "Dept_23                   -3166.6522   2897.688     -1.093      0.274   -8846.041    2512.737\n",
      "Dept_24                   -6055.7492   2828.117     -2.141      0.032   -1.16e+04    -512.718\n",
      "Dept_25                   -5247.3912   2758.489     -1.902      0.057   -1.07e+04     159.171\n",
      "Dept_26                   -5509.2413   2689.033     -2.049      0.040   -1.08e+04    -238.812\n",
      "Dept_27                   -6431.2895   2619.820     -2.455      0.014   -1.16e+04   -1296.515\n",
      "Dept_28                   -6289.3312   2550.093     -2.466      0.014   -1.13e+04   -1291.221\n",
      "Dept_29                   -5621.8315   2481.033     -2.266      0.023   -1.05e+04    -759.076\n",
      "Dept_30                   -5813.5787   2411.633     -2.411      0.016   -1.05e+04   -1086.846\n",
      "Dept_31                   -5702.7861   2341.749     -2.435      0.015   -1.03e+04   -1113.023\n",
      "Dept_32                   -4819.2377   2272.508     -2.121      0.034   -9273.290    -365.185\n",
      "Dept_33                   -5016.2327   2203.292     -2.277      0.023   -9334.623    -697.843\n",
      "Dept_34                   -3610.5874   2134.028     -1.692      0.091   -7793.222     572.047\n",
      "Dept_35                   -5409.4263   2064.624     -2.620      0.009   -9456.031   -1362.821\n",
      "Dept_36                   -5416.7316   1995.272     -2.715      0.007   -9327.409   -1506.054\n",
      "Dept_37                   -5806.2861   1929.964     -3.008      0.003   -9588.963   -2023.610\n",
      "Dept_38                    3891.0142   1857.228      2.095      0.036     250.898    7531.130\n",
      "Dept_39                   -6490.1173   4599.826     -1.411      0.158   -1.55e+04    2525.414\n",
      "Dept_40                    1764.6441   1718.010      1.027      0.304   -1602.607    5131.895\n",
      "Dept_41                   -4802.0580   1648.498     -2.913      0.004   -8033.068   -1571.048\n",
      "Dept_42                   -3932.2569   1578.713     -2.491      0.013   -7026.490    -838.024\n",
      "Dept_43                   -3842.9023   5411.231     -0.710      0.478   -1.44e+04    6762.959\n",
      "Dept_44                   -4048.9746   1440.608     -2.811      0.005   -6872.526   -1225.423\n",
      "Dept_45                   -4836.5660   1376.458     -3.514      0.000   -7534.386   -2138.746\n",
      "Dept_46                   -1119.0674   1301.903     -0.860      0.390   -3670.762    1432.627\n",
      "Dept_47                   -4589.1619   1346.407     -3.408      0.001   -7228.082   -1950.242\n",
      "Dept_48                   -4957.6623   1178.945     -4.205      0.000   -7268.362   -2646.963\n",
      "Dept_49                   -3272.3301   1097.911     -2.981      0.003   -5424.205   -1120.455\n",
      "Dept_50                   -4548.7371   1044.055     -4.357      0.000   -6595.055   -2502.419\n",
      "Dept_51                   -3848.1938    968.468     -3.973      0.000   -5746.365   -1950.023\n",
      "Dept_52                   -3305.7059    888.062     -3.722      0.000   -5046.282   -1565.129\n",
      "Dept_54                   -3748.5734    753.459     -4.975      0.000   -5225.332   -2271.815\n",
      "Dept_55                   -1443.7530    683.803     -2.111      0.035   -2783.988    -103.517\n",
      "Dept_56                   -2756.1591    615.383     -4.479      0.000   -3962.293   -1550.025\n",
      "Dept_58                   -2935.5416    485.494     -6.047      0.000   -3887.097   -1983.986\n",
      "Dept_59                   -2646.1577    414.533     -6.383      0.000   -3458.630   -1833.685\n",
      "Dept_60                   -2595.3634    352.472     -7.363      0.000   -3286.198   -1904.529\n",
      "Dept_65                    4735.8585    746.947      6.340      0.000    3271.864    6199.853\n",
      "Dept_67                    -693.8128    216.373     -3.207      0.001   -1117.898    -269.728\n",
      "Dept_71                    -895.7977    468.491     -1.912      0.056   -1814.026      22.431\n",
      "Dept_72                    7000.1638    533.991     13.109      0.000    5953.555    8046.772\n",
      "Dept_74                    1071.6506    667.552      1.605      0.108    -236.733    2380.034\n",
      "Dept_77                   -2485.0893   1361.525     -1.825      0.068   -5153.641     183.463\n",
      "Dept_78                   -1168.8372   1204.526     -0.970      0.332   -3529.675    1192.001\n",
      "Dept_79                    2783.7954   1010.244      2.756      0.006     803.746    4763.845\n",
      "Dept_80                    1369.9099   1080.083      1.268      0.205    -747.022    3486.842\n",
      "Dept_81                    2032.4617   1148.256      1.770      0.077    -218.088    4283.012\n",
      "Dept_82                    2437.4333   1217.306      2.002      0.045      51.548    4823.319\n",
      "Dept_83                     348.6561   1287.115      0.271      0.786   -2174.054    2871.366\n",
      "Dept_85                     463.6910   1425.418      0.325      0.745   -2330.090    3257.471\n",
      "Dept_87                    2386.5946   1563.404      1.527      0.127    -677.634    5450.823\n",
      "Dept_90                    7568.9871   1771.166      4.273      0.000    4097.551     1.1e+04\n",
      "Dept_91                    5844.6321   1840.500      3.176      0.001    2237.303    9451.962\n",
      "Dept_92                    1.219e+04   1910.193      6.380      0.000    8443.460    1.59e+04\n",
      "Dept_93                    5039.1299   1979.539      2.546      0.011    1159.289    8918.971\n",
      "Dept_94                    6349.9782   2049.407      3.098      0.002    2333.197    1.04e+04\n",
      "Dept_95                    1.171e+04   2118.236      5.529      0.000    7560.948    1.59e+04\n",
      "Dept_96                    3885.4187   2188.420      1.775      0.076    -403.823    8174.660\n",
      "Dept_97                    3656.8813   2257.091      1.620      0.105    -766.954    8080.716\n",
      "Dept_98                    2630.8453   2327.066      1.131      0.258   -1930.140    7191.831\n",
      "Dept_99                    -410.7394   2437.345     -0.169      0.866   -5187.868    4366.389\n",
      "Type_A                    -4.869e+04   2.71e+04     -1.798      0.072   -1.02e+05    4376.041\n",
      "Type_B                    -7.267e+04    4.1e+04     -1.771      0.077   -1.53e+05    7752.866\n",
      "Type_C                    -6.403e+04   3.62e+04     -1.767      0.077   -1.35e+05    6991.416\n",
      "Week_Number_1              -1.65e+04   9375.199     -1.760      0.078   -3.49e+04    1870.629\n",
      "Week_Number_2              -1.57e+04   8347.110     -1.881      0.060   -3.21e+04     661.538\n",
      "Week_Number_3             -1.325e+04   7300.418     -1.815      0.070   -2.76e+04    1057.393\n",
      "Week_Number_4             -1.174e+04   6255.238     -1.877      0.060    -2.4e+04     518.092\n",
      "Week_Number_5             -7308.9117   5211.411     -1.402      0.161   -1.75e+04    2905.310\n",
      "Week_Number_6             -1.042e+04   6455.947     -1.615      0.106   -2.31e+04    2228.692\n",
      "Week_Number_7             -5186.5264   3086.829     -1.680      0.093   -1.12e+04     863.573\n",
      "Week_Number_8             -5015.9219   2042.370     -2.456      0.014   -9018.911   -1012.933\n",
      "Week_Number_9              -830.7252    990.086     -0.839      0.401   -2771.265    1109.815\n",
      "Week_Number_10             -348.0244    131.931     -2.638      0.008    -606.606     -89.442\n",
      "Week_Number_11             1867.9588   1121.972      1.665      0.096    -331.075    4066.992\n",
      "Week_Number_12             3341.3169   2161.744      1.546      0.122    -895.641    7578.275\n",
      "Week_Number_13            -1.579e+04   9496.809     -1.663      0.096   -3.44e+04    2822.169\n",
      "Week_Number_14            -1.504e+04   8447.950     -1.780      0.075   -3.16e+04    1518.044\n",
      "Week_Number_15            -1.359e+04   7398.643     -1.837      0.066   -2.81e+04     909.439\n",
      "Week_Number_16            -1.072e+04   6353.322     -1.687      0.092   -2.32e+04    1735.792\n",
      "Week_Number_17            -1.039e+04   5308.299     -1.957      0.050   -2.08e+04      14.692\n",
      "Week_Number_18            -6216.9567   4259.764     -1.459      0.144   -1.46e+04    2132.062\n",
      "Week_Number_19            -6334.8087   3216.307     -1.970      0.049   -1.26e+04     -30.937\n",
      "Week_Number_20            -4077.8746   2176.285     -1.874      0.061   -8343.332     187.583\n",
      "Week_Number_21            -1379.2189   1143.847     -1.206      0.228   -3621.126     862.688\n",
      "Week_Number_22             4453.2496   2144.864      2.076      0.038     249.377    8657.122\n",
      "Week_Number_23             4829.8970   3183.406      1.517      0.129   -1409.490    1.11e+04\n",
      "Week_Number_24             7119.3019   4222.383      1.686      0.092   -1156.452    1.54e+04\n",
      "Week_Number_25             8580.0322   5263.759      1.630      0.103   -1736.789    1.89e+04\n",
      "Week_Number_26            -2.399e+04   1.38e+04     -1.734      0.083   -5.11e+04    3121.849\n",
      "Week_Number_27            -2.286e+04   1.28e+04     -1.787      0.074   -4.79e+04    2210.713\n",
      "Week_Number_28            -2.158e+04   1.17e+04     -1.837      0.066   -4.46e+04    1447.977\n",
      "Week_Number_29            -1.941e+04   1.07e+04     -1.813      0.070   -4.04e+04    1570.765\n",
      "Week_Number_30            -1.762e+04   9659.923     -1.824      0.068   -3.66e+04    1314.137\n",
      "Week_Number_31            -1.412e+04   8616.114     -1.639      0.101    -3.1e+04    2764.378\n",
      "Week_Number_32            -1.404e+04   7573.649     -1.854      0.064   -2.89e+04     804.586\n",
      "Week_Number_33            -1.146e+04   6535.751     -1.753      0.080   -2.43e+04    1354.369\n",
      "Week_Number_34            -9910.0936   5496.474     -1.803      0.071   -2.07e+04     862.843\n",
      "Week_Number_35            -8090.2488   4455.008     -1.816      0.069   -1.68e+04     641.443\n",
      "Week_Number_36            -9304.9851   5738.497     -1.622      0.105   -2.06e+04    1942.310\n",
      "Week_Number_37            -5198.6057   2370.576     -2.193      0.028   -9844.869    -552.343\n",
      "Week_Number_38            -3021.6291   1332.536     -2.268      0.023   -5633.363    -409.895\n",
      "Week_Number_39             -936.1841    300.273     -3.118      0.002   -1524.711    -347.657\n",
      "Week_Number_40             1974.9840    773.831      2.552      0.011     458.297    3491.671\n",
      "Week_Number_41             1865.2019   1812.144      1.029      0.303   -1686.550    5416.954\n",
      "Week_Number_42             4679.4441   2856.592      1.638      0.101    -919.398    1.03e+04\n",
      "Week_Number_43             6446.1772   3898.431      1.654      0.098   -1194.638    1.41e+04\n",
      "Week_Number_44             9093.3395   4938.923      1.841      0.066    -586.812    1.88e+04\n",
      "Week_Number_45             1.012e+04   5987.799      1.691      0.091   -1612.589    2.19e+04\n",
      "Week_Number_46             1.154e+04   7030.331      1.642      0.101   -2235.553    2.53e+04\n",
      "Week_Number_47             1.635e+04   5744.268      2.846      0.004    5088.841    2.76e+04\n",
      "Week_Number_48             8128.9963   6866.658      1.184      0.236   -5329.463    2.16e+04\n",
      "Week_Number_49             1.636e+04   7906.844      2.070      0.038     866.418    3.19e+04\n",
      "Week_Number_50             1.821e+04   8947.394      2.036      0.042     677.143    3.58e+04\n",
      "Week_Number_51             2.459e+04   9987.921      2.462      0.014    5011.067    4.42e+04\n",
      "Week_Number_52             6432.8884   8713.505      0.738      0.460   -1.06e+04    2.35e+04\n",
      "MarkDown                      0.1364      0.048      2.836      0.005       0.042       0.231\n",
      "Weekly_Sales_Lag              0.8555      0.001    806.915      0.000       0.853       0.858\n",
      "MarkDown:Weekly_Sales_Lag -3.052e-06   3.69e-08    -82.669      0.000   -3.12e-06   -2.98e-06\n",
      "==============================================================================\n",
      "Omnibus:                   448686.103   Durbin-Watson:                   2.539\n",
      "Prob(Omnibus):                  0.000   Jarque-Bera (JB):      10881680931.907\n",
      "Skew:                           8.490   Prob(JB):                         0.00\n",
      "Kurtosis:                     952.972   Cond. No.                     2.53e+22\n",
      "==============================================================================\n",
      "\n",
      "Notes:\n",
      "[1] Standard Errors assume that the covariance matrix of the errors is correctly specified.\n",
      "[2] The smallest eigenvalue is 1.11e-22. This might indicate that there are\n",
      "strong multicollinearity problems or that the design matrix is singular.\n"
     ]
    }
   ],
   "source": [
    "result_fullmodel = sm.ols(formula=equals_to_str, data = data_train).fit()\n",
    "print(\"Model 1 without Promotion \\n\",result_fullmodel.summary())"
   ]
  },
  {
   "cell_type": "markdown",
   "id": "06d7d2d7",
   "metadata": {},
   "source": [
    "Exploratory Analysis and descriptive statistics"
   ]
  },
  {
   "cell_type": "code",
   "execution_count": 25,
   "id": "72449371",
   "metadata": {},
   "outputs": [
    {
     "data": {
      "image/png": "[encoded data removed]",
      "text/plain": [
       "<Figure size 432x288 with 1 Axes>"
      ]
     },
     "metadata": {
      "needs_background": "light"
     },
     "output_type": "display_data"
    }
   ],
   "source": [
    "unique_dept_values = master_df_new_var.Dept.unique() #getting unique values of store by department type\n",
    "unique_data_string = []    #creating null list\n",
    "mark = []\n",
    "\n",
    "#creating unique list containing names of department for creating labels for the graph\n",
    "for counter in range(0, len(unique_dept_values)):\n",
    "    if unique_dept_values[counter] == 38 or unique_dept_values[counter] == 92 or unique_dept_values[counter] == 95:\n",
    "        unique_data_string.append(\"Dept-\" + str(unique_dept_values[counter]))\n",
    "        mark.append(\"+\")\n",
    "    else:\n",
    "        unique_data_string.append(\"\")\n",
    "        mark.append(\"o\")\n",
    "\n",
    "\n",
    "mean_sales = []   #creating list of mean sales\n",
    "for intcounter in unique_dept_values:\n",
    "    mean_sales.append(data_train[data_train[\"Dept_\" + str(intcounter)]==1][\"Weekly_Sales\"].mean()) #estimating mean sales for store by department type\n",
    "\n",
    "#creating formula for regression\n",
    "equals_to_str_dept = \"Weekly_Sales ~ Weekly_Sales_Lag + isHoliday + Temperature + Type_A + Type_B + Type_C+ Week_Number_50 + Week_Number_51 + \" \n",
    "for intcounter in range(len(unique_dept_values)):\n",
    "    if intcounter != len(unique_dept_values)-1:\n",
    "        equals_to_str_dept = equals_to_str_dept + \"Dept_\" + str(unique_dept_values[intcounter]) + \" + \"\n",
    "    else:\n",
    "        equals_to_str_dept = equals_to_str_dept + \"Dept_\" + str(unique_dept_values[intcounter])\n",
    "\n",
    "#running regression with relevant variables and all the department type to calculate which department type impacts the weekly sales the most\n",
    "result_with_dpt = sm.ols(formula=equals_to_str_dept, data = data_train).fit()\n",
    "result_list = result_with_dpt.tvalues #calculating t value to zero in on important parameters\n",
    "result_tstat = []\n",
    " \n",
    "for intcounter in range(9,90):\n",
    "    result_tstat.append(result_list[intcounter]) #getting t stat value for each department and store type\n",
    " \n",
    "fig, ax = plt.subplots()\n",
    "ax.scatter(result_tstat, mean_sales) #making a scatter plot to highlight high performing departments\n",
    "plt.xlabel('T- statistics')\n",
    "plt.ylabel('Mean Weekly Sales')\n",
    "plt.title('Mean weekly sales by department type')\n",
    "\n",
    "for i, txt in enumerate(unique_data_string):\n",
    "    ax.annotate(txt, (result_tstat[i],mean_sales[i])) #identifying the high performing graph and labelling them\n"
   ]
  },
  {
   "cell_type": "code",
   "execution_count": 26,
   "id": "626fe796",
   "metadata": {},
   "outputs": [
    {
     "data": {
      "image/png": "[encoded data removed]",
      "text/plain": [
       "<Figure size 432x288 with 1 Axes>"
      ]
     },
     "metadata": {
      "needs_background": "light"
     },
     "output_type": "display_data"
    }
   ],
   "source": [
    "ax= sns.barplot(x=\"Store\", y=\"Weekly_Sales\",  data=master_df_new_var)\n",
    "ax.set_xticklabels(ax.get_xticklabels(), fontsize=7)\n",
    "plt.tight_layout()\n",
    "plt.show()"
   ]
  },
  {
   "cell_type": "code",
   "execution_count": 27,
   "id": "919d4909",
   "metadata": {},
   "outputs": [
    {
     "data": {
      "text/plain": [
       "<AxesSubplot:xlabel='Year', ylabel='Weekly_Sales'>"
      ]
     },
     "execution_count": 27,
     "metadata": {},
     "output_type": "execute_result"
    },
    {
     "data": {
      "image/png": "[encoded data removed]",
      "text/plain": [
       "<Figure size 432x288 with 1 Axes>"
      ]
     },
     "metadata": {
      "needs_background": "light"
     },
     "output_type": "display_data"
    }
   ],
   "source": [
    "sns.barplot(x=\"Year\", y=\"Weekly_Sales\", hue=\"Type\", data=master_df)"
   ]
  },
  {
   "cell_type": "code",
   "execution_count": 28,
   "id": "fcd94425",
   "metadata": {},
   "outputs": [
    {
     "data": {
      "image/png": "[encoded data removed]",
      "text/plain": [
       "<Figure size 432x288 with 1 Axes>"
      ]
     },
     "metadata": {
      "needs_background": "light"
     },
     "output_type": "display_data"
    }
   ],
   "source": [
    "df_corr = master_df.corr()\n",
    "ax=df_corr[['Weekly_Sales']].plot(kind='bar')\n",
    "plt.xlabel('Attribute')\n",
    "plt.ylabel('Correlation')\n",
    "plt.title('Correlation of Weekly sales with other variables')\n",
    "plt.tight_layout()\n",
    "plt.show()"
   ]
  },
  {
   "cell_type": "code",
   "execution_count": 29,
   "id": "a85f9a29",
   "metadata": {},
   "outputs": [
    {
     "data": {
      "image/png": "[encoded data removed]",
      "text/plain": [
       "<Figure size 1440x504 with 2 Axes>"
      ]
     },
     "metadata": {
      "needs_background": "light"
     },
     "output_type": "display_data"
    }
   ],
   "source": [
    "heat_df= master_df[['Store','Dept','Weekly_Sales']]\n",
    "heat_map=heat_df.groupby(['Store','Dept']).mean()\n",
    "heat_map.reset_index(inplace=True)\n",
    "heat_map=heat_map.pivot('Store','Dept','Weekly_Sales')\n",
    "fig, ax = plt.subplots(figsize=(20,7))\n",
    "sns.heatmap(heat_map, cmap=\"YlGnBu\", ax=ax)\n",
    "plt.xlabel('Department')\n",
    "plt.ylabel('Store')\n",
    "plt.title('A heatmap indicating average sales of various departments')\n",
    "plt.tight_layout()\n",
    "plt.show()"
   ]
  },
  {
   "cell_type": "code",
   "execution_count": 30,
   "id": "7d3ce3df",
   "metadata": {},
   "outputs": [
    {
     "data": {
      "image/png": "[encoded data removed]",
      "text/plain": [
       "<Figure size 432x288 with 1 Axes>"
      ]
     },
     "metadata": {
      "needs_background": "light"
     },
     "output_type": "display_data"
    }
   ],
   "source": [
    "#function to draw pair plot\n",
    "def drawpairplot(total_clusters, data, blnDraw):\n",
    "    kmeans=KMeans(n_clusters=total_clusters).fit(data)\n",
    "    data['Cluster']=kmeans.labels_\n",
    "    if blnDraw:\n",
    "        sns.pairplot(data,hue='Cluster')\n",
    "\n",
    "df = copy.deepcopy(master_df)   #creating a copy of the data frame to not change the master data frame\n",
    "df[\"Type\"] = df['Type'].map({'A': int(0), 'B': int(1), 'C': int(2)}) #giving numberical values to different store types\n",
    "\n",
    "nClusters = range(2,7)  #defining a range of clusters between 2 and 7\n",
    "rel_cols=['Type', 'Weekly_Sales'] #defining the relevant columns in the data set on which clustering needs to run\n",
    "\n",
    "sumDistances=[]\n",
    "\n",
    "#calculating SSE\n",
    "for n in nClusters:\n",
    "    kmeans=KMeans(n_clusters=n).fit(df[rel_cols])\n",
    "    sumDistances.append(kmeans.inertia_) #Proxy for SSE\n",
    "\n",
    "# Plotting the elbow graph\n",
    "plt.plot(nClusters,sumDistances,'-')\n",
    "plt.xlabel('nClusters')\n",
    "plt.ylabel('Sum Of Distances')\n",
    "plt.show()"
   ]
  },
  {
   "cell_type": "markdown",
   "id": "b2117fbd",
   "metadata": {},
   "source": [
    "Variable Shortlisting based on above analysis"
   ]
  },
  {
   "cell_type": "code",
   "execution_count": 31,
   "id": "373f7e84",
   "metadata": {},
   "outputs": [],
   "source": [
    "features = ['isHoliday', 'Temperature', 'Weekly_Sales_Lag']#, 'Size', 'MarkDown5', 'master_df_new_var']\n",
    "features.extend(master_df_new_var.columns[master_df_new_var.columns.str.startswith('Type')])\n",
    "features.remove('Type')"
   ]
  },
  {
   "cell_type": "code",
   "execution_count": 32,
   "id": "18d6c8c7",
   "metadata": {},
   "outputs": [],
   "source": [
    "equals_to_str = \"\"\n",
    "\n",
    "for i in features:\n",
    "    equals_to_str = equals_to_str + str(i) + \" + \"\n",
    "\n",
    "equals_to_str = str('Weekly_Sales ~ ') + equals_to_str\n",
    "equals_to_str = equals_to_str  + 'Week_Number_50 + Week_Number_51+ Dept_95 + Dept_92+ Dept_38'\n",
    "equals_to_str_withpromotion = equals_to_str  + '+ MarkDown*Weekly_Sales_Lag'"
   ]
  },
  {
   "cell_type": "markdown",
   "id": "920fa620",
   "metadata": {},
   "source": [
    "Reduced Models"
   ]
  },
  {
   "cell_type": "code",
   "execution_count": 33,
   "id": "308638f7",
   "metadata": {},
   "outputs": [
    {
     "name": "stdout",
     "output_type": "stream",
     "text": [
      "Model 1 without Promotion \n",
      "                             OLS Regression Results                            \n",
      "==============================================================================\n",
      "Dep. Variable:           Weekly_Sales   R-squared:                       0.879\n",
      "Model:                            OLS   Adj. R-squared:                  0.879\n",
      "Method:                 Least Squares   F-statistic:                 2.099e+05\n",
      "Date:                Mon, 28 Feb 2022   Prob (F-statistic):               0.00\n",
      "Time:                        21:57:04   Log-Likelihood:            -3.0104e+06\n",
      "No. Observations:              289299   AIC:                         6.021e+06\n",
      "Df Residuals:                  289288   BIC:                         6.021e+06\n",
      "Df Model:                          10                                         \n",
      "Covariance Type:            nonrobust                                         \n",
      "=====================================================================================\n",
      "                        coef    std err          t      P>|t|      [0.025      0.975]\n",
      "-------------------------------------------------------------------------------------\n",
      "Intercept           247.3962     42.690      5.795      0.000     163.725     331.067\n",
      "isHoliday[T.True]  -845.5337     55.780    -15.158      0.000    -954.860    -736.207\n",
      "Temperature           9.9790      0.837     11.928      0.000       8.339      11.619\n",
      "Weekly_Sales_Lag      0.9067      0.001   1185.741      0.000       0.905       0.908\n",
      "Type_A              698.9296     24.786     28.199      0.000     650.351     747.509\n",
      "Type_B                5.6130     24.101      0.233      0.816     -41.624      52.850\n",
      "Type_C             -457.1464     40.400    -11.316      0.000    -536.328    -377.964\n",
      "Week_Number_50     2363.1381    106.518     22.185      0.000    2154.366    2571.911\n",
      "Week_Number_51     6783.5677    106.467     63.715      0.000    6574.895    6992.240\n",
      "Dept_95            5074.3453    128.151     39.597      0.000    4823.173    5325.518\n",
      "Dept_92            5462.1660    129.366     42.223      0.000    5208.612    5715.720\n",
      "Dept_38            4289.9392    126.057     34.032      0.000    4042.872    4537.007\n",
      "==============================================================================\n",
      "Omnibus:                   322653.403   Durbin-Watson:                   2.644\n",
      "Prob(Omnibus):                  0.000   Jarque-Bera (JB):       8837920688.642\n",
      "Skew:                           4.081   Prob(JB):                         0.00\n",
      "Kurtosis:                     859.224   Cond. No.                     5.96e+18\n",
      "==============================================================================\n",
      "\n",
      "Notes:\n",
      "[1] Standard Errors assume that the covariance matrix of the errors is correctly specified.\n",
      "[2] The smallest eigenvalue is 6.46e-24. This might indicate that there are\n",
      "strong multicollinearity problems or that the design matrix is singular.\n"
     ]
    }
   ],
   "source": [
    "result_withoutpromotion = sm.ols(formula=equals_to_str, data = data_train).fit()\n",
    "print(\"Model 1 without Promotion \\n\",result_withoutpromotion.summary())"
   ]
  },
  {
   "cell_type": "code",
   "execution_count": 34,
   "id": "b53123e4",
   "metadata": {},
   "outputs": [
    {
     "name": "stdout",
     "output_type": "stream",
     "text": [
      "Model 1 with Promotion \n",
      "                             OLS Regression Results                            \n",
      "==============================================================================\n",
      "Dep. Variable:           Weekly_Sales   R-squared:                       0.883\n",
      "Model:                            OLS   Adj. R-squared:                  0.883\n",
      "Method:                 Least Squares   F-statistic:                 1.822e+05\n",
      "Date:                Mon, 28 Feb 2022   Prob (F-statistic):               0.00\n",
      "Time:                        21:57:12   Log-Likelihood:            -3.0052e+06\n",
      "No. Observations:              289299   AIC:                         6.010e+06\n",
      "Df Residuals:                  289286   BIC:                         6.010e+06\n",
      "Df Model:                          12                                         \n",
      "Covariance Type:            nonrobust                                         \n",
      "=============================================================================================\n",
      "                                coef    std err          t      P>|t|      [0.025      0.975]\n",
      "---------------------------------------------------------------------------------------------\n",
      "Intercept                    37.1945     42.183      0.882      0.378     -45.482     119.872\n",
      "isHoliday[T.True]          -852.3239     57.564    -14.806      0.000    -965.148    -739.500\n",
      "Temperature                   9.8274      0.826     11.902      0.000       8.209      11.446\n",
      "Weekly_Sales_Lag              0.9295      0.001   1186.239      0.000       0.928       0.931\n",
      "Type_A                      523.3284     24.537     21.328      0.000     475.236     571.421\n",
      "Type_B                      -72.7195     23.749     -3.062      0.002    -119.267     -26.172\n",
      "Type_C                     -413.4144     39.680    -10.419      0.000    -491.187    -335.642\n",
      "Week_Number_50             2256.6944    104.664     21.561      0.000    2051.556    2461.832\n",
      "Week_Number_51             6673.0064    104.573     63.812      0.000    6468.046    6877.967\n",
      "Dept_95                    4280.9141    126.114     33.945      0.000    4033.733    4528.095\n",
      "Dept_92                    4809.7483    127.235     37.802      0.000    4560.371    5059.125\n",
      "Dept_38                    3575.8497    124.011     28.835      0.000    3332.792    3818.907\n",
      "MarkDown                      0.0938      0.002     52.599      0.000       0.090       0.097\n",
      "MarkDown:Weekly_Sales_Lag -3.881e-06   3.77e-08   -102.926      0.000   -3.95e-06   -3.81e-06\n",
      "==============================================================================\n",
      "Omnibus:                   403272.901   Durbin-Watson:                   2.609\n",
      "Prob(Omnibus):                  0.000   Jarque-Bera (JB):      10351804851.691\n",
      "Skew:                           6.666   Prob(JB):                         0.00\n",
      "Kurtosis:                     929.606   Cond. No.                     1.05e+23\n",
      "==============================================================================\n",
      "\n",
      "Notes:\n",
      "[1] Standard Errors assume that the covariance matrix of the errors is correctly specified.\n",
      "[2] The smallest eigenvalue is 6.46e-24. This might indicate that there are\n",
      "strong multicollinearity problems or that the design matrix is singular.\n"
     ]
    }
   ],
   "source": [
    "result_withpromotion = sm.ols(formula=equals_to_str_withpromotion, data = data_train).fit()\n",
    "print(\"Model 1 with Promotion \\n\",result_withpromotion.summary())"
   ]
  },
  {
   "cell_type": "code",
   "execution_count": 35,
   "id": "8eb07129",
   "metadata": {},
   "outputs": [
    {
     "name": "stdout",
     "output_type": "stream",
     "text": [
      "The accuracy of the model is 84.56 %.(in the test dataset)\n",
      "The accuracy of the model is 84.53 %.(in the train dataset)\n"
     ]
    }
   ],
   "source": [
    "data_test = pd.concat([data_test, result_withoutpromotion.predict(data_test).rename(\"predicted_values_withoutpromotion\")], axis=1)\n",
    "print('The accuracy of the model is', round((1-(metrics.median_absolute_error(data_test.predicted_values_withoutpromotion, data_test.Weekly_Sales)/data_test.Weekly_Sales.median()))*100, 2), '%.(in the test dataset)')\n",
    "data_train = pd.concat([data_train, result_withoutpromotion.predict(data_train).rename(\"predicted_values_withoutpromotion\")], axis=1)\n",
    "print('The accuracy of the model is', round((1-(metrics.median_absolute_error(data_train.predicted_values_withoutpromotion, data_train.Weekly_Sales)/data_train.Weekly_Sales.median()))*100, 2), '%.(in the train dataset)')"
   ]
  },
  {
   "cell_type": "markdown",
   "id": "eae967cd",
   "metadata": {},
   "source": [
    "Result Plots"
   ]
  },
  {
   "cell_type": "code",
   "execution_count": 36,
   "id": "36ad2372",
   "metadata": {},
   "outputs": [
    {
     "data": {
      "image/png": "[encoded data removed]",
      "text/plain": [
       "<Figure size 1080x360 with 1 Axes>"
      ]
     },
     "metadata": {
      "needs_background": "light"
     },
     "output_type": "display_data"
    }
   ],
   "source": [
    "pred_val = result_withoutpromotion.fittedvalues.copy()\n",
    "true_val = data_train['Weekly_Sales'].values.copy()\n",
    "residual = true_val - pred_val\n",
    "fig, ax = plt.subplots(figsize=(15,5))\n",
    "plt.xlabel('Error in Predicted Value', fontsize = 18)\n",
    "plt.ylabel('Predicted Value', fontsize = 18)\n",
    "plt.title(\"Residual plot (for Train Data)\", fontsize = 20)\n",
    "_ = ax.scatter(pred_val, residual)"
   ]
  },
  {
   "cell_type": "code",
   "execution_count": 37,
   "id": "d7557ba3",
   "metadata": {},
   "outputs": [
    {
     "data": {
      "image/png": "[encoded data removed]",
      "text/plain": [
       "<Figure size 1080x360 with 1 Axes>"
      ]
     },
     "metadata": {
      "needs_background": "light"
     },
     "output_type": "display_data"
    }
   ],
   "source": [
    "fig, ax = plt.subplots(figsize=(15,5))\n",
    "_, (__, ___, r) = sp.stats.probplot(residual, plot=ax, fit=True)\n",
    "#r**2"
   ]
  },
  {
   "cell_type": "code",
   "execution_count": 38,
   "id": "6339f1b5",
   "metadata": {},
   "outputs": [
    {
     "data": {
      "image/png": "[encoded data removed]",
      "text/plain": [
       "<Figure size 1080x360 with 1 Axes>"
      ]
     },
     "metadata": {
      "needs_background": "light"
     },
     "output_type": "display_data"
    }
   ],
   "source": [
    "pred_val = result_withpromotion.fittedvalues.copy()\n",
    "true_val = data_train['Weekly_Sales'].values.copy()\n",
    "residual = true_val - pred_val\n",
    "fig, ax = plt.subplots(figsize=(15,5))\n",
    "plt.xlabel('Error in Predicted Value', fontsize = 18)\n",
    "plt.ylabel('Predicted Value', fontsize = 18)\n",
    "plt.title(\"Comparison of Predicted Values VS Error (for Test Data)\", fontsize = 20)\n",
    "_ = ax.scatter(pred_val, residual)"
   ]
  },
  {
   "cell_type": "code",
   "execution_count": 39,
   "id": "0c5dec81",
   "metadata": {},
   "outputs": [
    {
     "data": {
      "image/png": "[encoded data removed]",
      "text/plain": [
       "<Figure size 1080x360 with 1 Axes>"
      ]
     },
     "metadata": {
      "needs_background": "light"
     },
     "output_type": "display_data"
    }
   ],
   "source": [
    "fig, ax = plt.subplots(figsize=(15,5))\n",
    "_, (__, ___, r) = sp.stats.probplot(residual, plot=ax, fit=True)\n",
    "#r**2"
   ]
  },
  {
   "cell_type": "code",
   "execution_count": 40,
   "id": "84023dbd",
   "metadata": {},
   "outputs": [],
   "source": [
    "data_test[\"predicted_values_withoutpromotion\"] = result_withoutpromotion.predict(data_test)\n",
    "data_test[\"predicted_values_withpromotion\"] = result_withoutpromotion.predict(data_test)\n",
    "\n",
    "actual_sales = data_test.groupby(\"Dept\").mean()[\"Weekly_Sales\"]\n",
    "predicted_sales_withoutpromotion = data_test.groupby(\"Dept\").mean()[\"predicted_values_withoutpromotion\"]\n",
    "#data_test.to_csv(\"predictedvsactual.csv\")\n"
   ]
  },
  {
   "cell_type": "code",
   "execution_count": 41,
   "id": "1fa6411f",
   "metadata": {},
   "outputs": [
    {
     "data": {
      "text/plain": [
       "Text(0.5, 1.0, 'Scatter plot of Actual Value VS Predicted Value')"
      ]
     },
     "execution_count": 41,
     "metadata": {},
     "output_type": "execute_result"
    },
    {
     "data": {
      "image/png": "[encoded data removed]",
      "text/plain": [
       "<Figure size 432x288 with 1 Axes>"
      ]
     },
     "metadata": {
      "needs_background": "light"
     },
     "output_type": "display_data"
    }
   ],
   "source": [
    "plt.scatter(data_test['Weekly_Sales'], data_test['predicted_values_withpromotion'])\n",
    "plt.xlabel('Actual Value', fontsize = 18)\n",
    "plt.ylabel('Predicted Value', fontsize = 18)\n",
    "plt.title(\"Scatter plot of Actual Value VS Predicted Value\", fontsize = 20)\n"
   ]
  },
  {
   "cell_type": "code",
   "execution_count": null,
   "id": "e3338e2d",
   "metadata": {},
   "outputs": [],
   "source": []
  }
 ],
 "metadata": {
  "kernelspec": {
   "display_name": "Python 3",
   "language": "python",
   "name": "python3"
  },
  "language_info": {
   "codemirror_mode": {
    "name": "ipython",
    "version": 3
   },
   "file_extension": ".py",
   "mimetype": "text/x-python",
   "name": "python",
   "nbconvert_exporter": "python",
   "pygments_lexer": "ipython3",
   "version": "3.8.8"
  }
 },
 "nbformat": 4,
 "nbformat_minor": 5
}
